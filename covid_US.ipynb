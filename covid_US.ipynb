{
 "cells": [
  {
   "cell_type": "code",
   "execution_count": 1,
   "metadata": {},
   "outputs": [],
   "source": [
    "import networkx as nx\n",
    "import dynetx as dn\n",
    "\n",
    "import ndlib.models.ModelConfig as mc\n",
    "import ndlib.models.dynamic as dm\n",
    "\n",
    "import matplotlib\n",
    "from matplotlib import pyplot as plt\n",
    "from ndlib.viz.mpl.DiffusionTrend import DiffusionTrend\n",
    "from ndlib.viz.mpl.DiffusionPrevalence import DiffusionPrevalence\n",
    "from networkx.drawing.nx_pylab import draw_networkx\n",
    "\n",
    "import numpy as np\n",
    "import pandas as pd\n",
    "import random\n",
    "\n",
    "from tqdm import tqdm_notebook as tqdm\n",
    "import itertools\n",
    "import pickle"
   ]
  },
  {
   "cell_type": "code",
   "execution_count": 196,
   "metadata": {},
   "outputs": [],
   "source": [
    "matplotlib.rcParams[\"figure.figsize\"] = [12, 10]"
   ]
  },
  {
   "cell_type": "markdown",
   "metadata": {},
   "source": [
    "#### build static, scale-free network"
   ]
  },
  {
   "cell_type": "code",
   "execution_count": 3,
   "metadata": {},
   "outputs": [],
   "source": [
    "g = nx.barabasi_albert_graph(5000, 20)"
   ]
  },
  {
   "cell_type": "code",
   "execution_count": 4,
   "metadata": {
    "scrolled": true
   },
   "outputs": [
    {
     "name": "stdout",
     "output_type": "stream",
     "text": [
      "Name: \n",
      "Type: Graph\n",
      "Number of nodes: 5000\n",
      "Number of edges: 99600\n",
      "Average degree:  39.8400\n"
     ]
    }
   ],
   "source": [
    "print(nx.info(g))"
   ]
  },
  {
   "cell_type": "markdown",
   "metadata": {},
   "source": [
    "#### set all model parameters"
   ]
  },
  {
   "cell_type": "code",
   "execution_count": 278,
   "metadata": {},
   "outputs": [],
   "source": [
    "N = g.number_of_nodes()\n",
    "l = g.number_of_edges()\n",
    "number_of_iterations = 1000\n",
    "\n",
    "\"\"\"\n",
    "set contact parameters:\n",
    "- social distancing starts from the 50th iteration\n",
    "- lambda denotes the mean active/all contacts ratio in one iteration (drawn from an exponential distribution)\n",
    "- contacts last for 5 iterations\n",
    "- no larger ratio of contacts then threshold are set to active in one iteration\n",
    "\"\"\"\n",
    "\n",
    "social_distancing_range = range(50, 501)\n",
    "normal_lambda = 0.1\n",
    "social_dist_lambda = 0.001\n",
    "contact_duration = 5\n",
    "threshold = 0.5\n",
    "\n",
    "\"\"\"\n",
    "basic units of society: families, public places (schools, work, groceries, etc.), and larger gatherings \n",
    "are handled separately from other contacts:\n",
    "- places_lambda stands for the mean ratio of interactions within a given public place\n",
    " (drawn from an exponential distribution)\n",
    "- places_shutdown determines the ratio to which public interactions are reduced after social distancing\n",
    "- parties_lambda denotes the mean attendance ratio of parties (drawn from an exponential distribution)\n",
    "\"\"\"\n",
    "\n",
    "number_of_families = 500\n",
    "number_of_places = 100\n",
    "places_lambda = 0.01\n",
    "places_shutdown = 0.01\n",
    "parties_lambda = 0.01"
   ]
  },
  {
   "cell_type": "markdown",
   "metadata": {},
   "source": [
    "#### find all cliques"
   ]
  },
  {
   "cell_type": "code",
   "execution_count": 6,
   "metadata": {},
   "outputs": [],
   "source": [
    "all_cliques = (\n",
    "    pd.DataFrame([[set(c), len(c)] for c in nx.enumerate_all_cliques(g) if len(c) > 2])\n",
    "    .rename(columns={0: \"clique\", 1: \"size\"})\n",
    "    .groupby(\"size\")\n",
    "    .apply(lambda df: list(df[\"clique\"]))\n",
    "    .to_dict()\n",
    ")"
   ]
  },
  {
   "cell_type": "code",
   "execution_count": 7,
   "metadata": {},
   "outputs": [
    {
     "data": {
      "text/plain": [
       "dict_keys([3, 4, 5, 6, 7, 8, 9, 10, 11])"
      ]
     },
     "execution_count": 7,
     "metadata": {},
     "output_type": "execute_result"
    }
   ],
   "source": [
    "all_cliques.keys()"
   ]
  },
  {
   "cell_type": "code",
   "execution_count": 8,
   "metadata": {},
   "outputs": [],
   "source": [
    "def find_clique_edges(cliques):\n",
    "\n",
    "    return set(\n",
    "        sum(\n",
    "            [\n",
    "                [frozenset(c) for c in itertools.combinations(clique, r=2)]\n",
    "                for clique in cliques\n",
    "            ],\n",
    "            [],\n",
    "        )\n",
    "    )"
   ]
  },
  {
   "cell_type": "markdown",
   "metadata": {},
   "source": [
    "#### designate families and interactions in public places"
   ]
  },
  {
   "cell_type": "code",
   "execution_count": 9,
   "metadata": {},
   "outputs": [],
   "source": [
    "families = find_clique_edges(\n",
    "    random.sample(sum([all_cliques[s] for s in range(4, 6)], []), number_of_families)\n",
    ")"
   ]
  },
  {
   "cell_type": "code",
   "execution_count": 10,
   "metadata": {},
   "outputs": [],
   "source": [
    "public_places = (\n",
    "    find_clique_edges(\n",
    "        [\n",
    "            random.sample(g.nodes(), int(N * np.random.exponential(places_lambda)))\n",
    "            for p in range(number_of_places)\n",
    "        ]\n",
    "    )\n",
    "    - families\n",
    ")"
   ]
  },
  {
   "cell_type": "markdown",
   "metadata": {},
   "source": [
    "#### build dynamic network"
   ]
  },
  {
   "cell_type": "code",
   "execution_count": 273,
   "metadata": {},
   "outputs": [],
   "source": [
    "dg = dn.DynGraph(edge_removal=True)"
   ]
  },
  {
   "cell_type": "code",
   "execution_count": 274,
   "metadata": {},
   "outputs": [],
   "source": [
    "dg.add_nodes_from(g.nodes)"
   ]
  },
  {
   "cell_type": "markdown",
   "metadata": {},
   "source": [
    "#### add families and public interactions"
   ]
  },
  {
   "cell_type": "code",
   "execution_count": 275,
   "metadata": {
    "scrolled": true
   },
   "outputs": [],
   "source": [
    "dg.add_interactions_from([list(f) for f in families], t=0, e=number_of_iterations)"
   ]
  },
  {
   "cell_type": "code",
   "execution_count": 279,
   "metadata": {},
   "outputs": [],
   "source": [
    "dg.add_interactions_from(\n",
    "    [list(p) for p in public_places], t=0, e=social_distancing_range[0]\n",
    ")"
   ]
  },
  {
   "cell_type": "code",
   "execution_count": 280,
   "metadata": {},
   "outputs": [],
   "source": [
    "dg.add_interactions_from(\n",
    "    [\n",
    "        list(p)\n",
    "        for p in random.sample(public_places, int(len(public_places) * places_shutdown))\n",
    "    ],\n",
    "    t=social_distancing_range[0],\n",
    "    e=social_distancing_range[-1],\n",
    ")"
   ]
  },
  {
   "cell_type": "code",
   "execution_count": 284,
   "metadata": {},
   "outputs": [],
   "source": [
    "dg.add_interactions_from(\n",
    "    [list(p) for p in public_places],\n",
    "    t=social_distancing_range[-1],\n",
    "    e=number_of_iterations,\n",
    ")"
   ]
  },
  {
   "cell_type": "code",
   "execution_count": 285,
   "metadata": {},
   "outputs": [
    {
     "name": "stdout",
     "output_type": "stream",
     "text": [
      "Name: \n",
      "Type: DynGraph\n",
      "Number of nodes: 5000\n",
      "Number of edges: 271917\n",
      "Average degree: 108.7668\n"
     ]
    }
   ],
   "source": [
    "print(nx.info(dg))"
   ]
  },
  {
   "cell_type": "code",
   "execution_count": 282,
   "metadata": {
    "scrolled": true
   },
   "outputs": [
    {
     "name": "stdout",
     "output_type": "stream",
     "text": [
      "Name: \n",
      "Type: DynGraph\n",
      "Number of nodes: 2468\n",
      "Number of edges: 4293\n",
      "Average degree:   3.4789\n"
     ]
    }
   ],
   "source": [
    "print(nx.info(dg.time_slice(t_from=50, t_to=60)))"
   ]
  },
  {
   "cell_type": "code",
   "execution_count": 294,
   "metadata": {},
   "outputs": [
    {
     "name": "stdout",
     "output_type": "stream",
     "text": [
      "Name: \n",
      "Type: DynGraph\n",
      "Number of nodes: 5000\n",
      "Number of edges: 352585\n",
      "Average degree: 141.0340\n"
     ]
    }
   ],
   "source": [
    "print(nx.info(dg.time_slice(t_from=600, t_to=610)))"
   ]
  },
  {
   "cell_type": "markdown",
   "metadata": {},
   "source": [
    "#### add contacts and parties"
   ]
  },
  {
   "cell_type": "code",
   "execution_count": 86,
   "metadata": {},
   "outputs": [],
   "source": [
    "potential_edges = set([frozenset(e) for e in g.edges]) - families - public_places"
   ]
  },
  {
   "cell_type": "code",
   "execution_count": 287,
   "metadata": {},
   "outputs": [
    {
     "data": {
      "application/vnd.jupyter.widget-view+json": {
       "model_id": "710706232c13491a8c01f65a346a7531",
       "version_major": 2,
       "version_minor": 0
      },
      "text/plain": [
       "HBox(children=(IntProgress(value=0, max=1000), HTML(value='')))"
      ]
     },
     "metadata": {},
     "output_type": "display_data"
    },
    {
     "name": "stdout",
     "output_type": "stream",
     "text": [
      "\n"
     ]
    }
   ],
   "source": [
    "for i in tqdm(range(number_of_iterations)):\n",
    "\n",
    "    ### add basic contacts\n",
    "\n",
    "    _lambda = social_dist_lambda if (i in social_distancing_range) else normal_lambda\n",
    "\n",
    "    new_contacts = set(\n",
    "        random.sample(\n",
    "            potential_edges, int(min(np.random.exponential(_lambda), threshold) * l)\n",
    "        )\n",
    "    )\n",
    "\n",
    "    ### add large gatherings\n",
    "\n",
    "    if i not in social_distancing_range:\n",
    "\n",
    "        parties = set(\n",
    "            find_clique_edges(\n",
    "                [random.sample(g.nodes, int(N * np.random.exponential(parties_lambda)))]\n",
    "            )\n",
    "        ).intersection(potential_edges)\n",
    "\n",
    "    else:\n",
    "        parties = set()\n",
    "\n",
    "    all_contacts = [list(c) for c in new_contacts.union(parties)]\n",
    "\n",
    "    for c in all_contacts:\n",
    "        try:\n",
    "            dg.add_interaction(\n",
    "                c[0], c[1], t=i, e=i + contact_duration,\n",
    "            )\n",
    "        except:\n",
    "            pass"
   ]
  },
  {
   "cell_type": "code",
   "execution_count": 289,
   "metadata": {},
   "outputs": [
    {
     "name": "stdout",
     "output_type": "stream",
     "text": [
      "Name: \n",
      "Type: DynGraph\n",
      "Number of nodes: 5000\n",
      "Number of edges: 367764\n",
      "Average degree: 147.1056\n"
     ]
    }
   ],
   "source": [
    "print(nx.info(dg))"
   ]
  },
  {
   "cell_type": "code",
   "execution_count": 290,
   "metadata": {},
   "outputs": [
    {
     "data": {
      "text/plain": [
       "313390"
      ]
     },
     "execution_count": 290,
     "metadata": {},
     "output_type": "execute_result"
    }
   ],
   "source": [
    "dg.time_slice(t_from=10, t_to=10).number_of_edges()"
   ]
  },
  {
   "cell_type": "code",
   "execution_count": 293,
   "metadata": {},
   "outputs": [
    {
     "data": {
      "text/plain": [
       "5441"
      ]
     },
     "execution_count": 293,
     "metadata": {},
     "output_type": "execute_result"
    }
   ],
   "source": [
    "dg.time_slice(t_from=100, t_to=110).number_of_edges()"
   ]
  },
  {
   "cell_type": "code",
   "execution_count": 295,
   "metadata": {},
   "outputs": [
    {
     "data": {
      "text/plain": [
       "352585"
      ]
     },
     "execution_count": 295,
     "metadata": {},
     "output_type": "execute_result"
    }
   ],
   "source": [
    "dg.time_slice(t_from=600, t_to=610).number_of_edges()"
   ]
  },
  {
   "cell_type": "code",
   "execution_count": 296,
   "metadata": {},
   "outputs": [],
   "source": [
    "pickle.dump(dg, open(\"dynamic_network_relapse.p\", \"wb\"))"
   ]
  },
  {
   "cell_type": "markdown",
   "metadata": {},
   "source": [
    "#### build SIR model"
   ]
  },
  {
   "cell_type": "code",
   "execution_count": 297,
   "metadata": {},
   "outputs": [],
   "source": [
    "model = dm.DynSIRModel(dg)"
   ]
  },
  {
   "cell_type": "code",
   "execution_count": 299,
   "metadata": {},
   "outputs": [],
   "source": [
    "config = mc.Configuration()\n",
    "config.add_model_parameter(\"fraction_infected\", 0.05)\n",
    "config.add_model_parameter(\"beta\", 0.005)\n",
    "config.add_model_parameter(\"gamma\", 0.005)\n",
    "model.set_initial_status(config)"
   ]
  },
  {
   "cell_type": "code",
   "execution_count": 300,
   "metadata": {
    "scrolled": true
   },
   "outputs": [],
   "source": [
    "iterations = model.execute_snapshots()"
   ]
  },
  {
   "cell_type": "code",
   "execution_count": 301,
   "metadata": {},
   "outputs": [],
   "source": [
    "trends = model.build_trends(iterations)"
   ]
  },
  {
   "cell_type": "code",
   "execution_count": 302,
   "metadata": {},
   "outputs": [
    {
     "data": {
      "image/png": "[encoded data removed]",
      "text/plain": [
       "<Figure size 864x720 with 1 Axes>"
      ]
     },
     "metadata": {
      "needs_background": "light"
     },
     "output_type": "display_data"
    }
   ],
   "source": [
    "DiffusionTrend(model, trends).plot()"
   ]
  },
  {
   "cell_type": "code",
   "execution_count": 269,
   "metadata": {},
   "outputs": [],
   "source": [
    "pickle.dump(iterations, open(\"iterations_relapse.p\", \"wb\"))"
   ]
  },
  {
   "cell_type": "code",
   "execution_count": 270,
   "metadata": {},
   "outputs": [],
   "source": [
    "pickle.dump(trends, open(\"trends_relapse.p\", \"wb\"))"
   ]
  },
  {
   "cell_type": "code",
   "execution_count": 303,
   "metadata": {},
   "outputs": [],
   "source": [
    "susceptible = trends[0][\"trends\"][\"node_count\"][0]\n",
    "infected = trends[0][\"trends\"][\"node_count\"][1]\n",
    "removed = trends[0][\"trends\"][\"node_count\"][2]"
   ]
  },
  {
   "cell_type": "code",
   "execution_count": 306,
   "metadata": {},
   "outputs": [
    {
     "data": {
      "text/plain": [
       "<matplotlib.legend.Legend at 0x7fab8316ce10>"
      ]
     },
     "execution_count": 306,
     "metadata": {},
     "output_type": "execute_result"
    },
    {
     "data": {
      "image/png": "[encoded data removed]",
      "text/plain": [
       "<Figure size 864x720 with 1 Axes>"
      ]
     },
     "metadata": {
      "needs_background": "light"
     },
     "output_type": "display_data"
    }
   ],
   "source": [
    "plt.plot(susceptible[500:], c=\"lightblue\", label=\"Susceptible\")\n",
    "plt.plot(infected[500:], c=\"red\", label=\"Infected\")\n",
    "plt.plot(removed[500:], c=\"orange\", label=\"Removed\")\n",
    "plt.legend()"
   ]
  },
  {
   "cell_type": "code",
   "execution_count": null,
   "metadata": {},
   "outputs": [],
   "source": []
  }
 ],
 "metadata": {
  "kernelspec": {
   "display_name": "Python 3",
   "language": "python",
   "name": "python3"
  },
  "language_info": {
   "codemirror_mode": {
    "name": "ipython",
    "version": 3
   },
   "file_extension": ".py",
   "mimetype": "text/x-python",
   "name": "python",
   "nbconvert_exporter": "python",
   "pygments_lexer": "ipython3",
   "version": "3.7.3"
  }
 },
 "nbformat": 4,
 "nbformat_minor": 2
}
