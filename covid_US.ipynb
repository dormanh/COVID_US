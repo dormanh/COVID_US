{
 "cells": [
  {
   "cell_type": "code",
   "execution_count": 1,
   "metadata": {},
   "outputs": [],
   "source": [
    "from covid_US import build_dynamic_network, find_clique_edges, SIR_model\n",
    "import networkx as nx\n",
    "\n",
    "import matplotlib\n",
    "from matplotlib import pyplot as plt\n",
    "from ndlib.viz.mpl.DiffusionTrend import DiffusionTrend\n",
    "from ndlib.viz.mpl.DiffusionPrevalence import DiffusionPrevalence\n",
    "from networkx.drawing.nx_pylab import draw_networkx\n",
    "\n",
    "import numpy as np\n",
    "import glob\n",
    "import pickle\n",
    "import pandas as pd"
   ]
  },
  {
   "cell_type": "code",
   "execution_count": 2,
   "metadata": {},
   "outputs": [],
   "source": [
    "matplotlib.rcParams[\"figure.figsize\"] = [12, 10]"
   ]
  },
  {
   "cell_type": "markdown",
   "metadata": {},
   "source": [
    "----------"
   ]
  },
  {
   "cell_type": "markdown",
   "metadata": {},
   "source": [
    "#### network model parameters"
   ]
  },
  {
   "cell_type": "markdown",
   "metadata": {},
   "source": [
    "- `social_dist_range`: time frame, within which social distancing restrictions are in effect\n",
    "- `small_ent_range`: time frame, within which small enterprises are closed\n",
    "- `large_ent_range`: time frame, within which large enterprises are closed\n",
    "\n",
    "\n",
    "- `g`: static scale-free network to start from\n",
    "- `number_of_iterations`: observed time frame\n",
    "- `contact_duration`: all non-recurring contacts last this long\n",
    "- `normal_contacts_lambda`: mean active/all contacts ratio in one iteration (drawn from an exponential distribution)\n",
    "- `social_dist_contacts_lambda`: mean active/all contacts ratio in one iteration (drawn from an exponential distribution) within social distancing time frame\n",
    "- `parties_lambda`: mean attendance ratio of parties (drawn from an exponential distribution)\n",
    "- `contacts_threshold`: determines the max ratio of active contacts in one iteration\n",
    "- `number_of_families`, `family_size`: number and size of complete subgraphs present during the entire observed time frame\n",
    "- `small_ent_number`, `small_ent_size`: number and size of complete subgraphs present outside `small_ent_range`\n",
    "- `large_ent_number`, `large_ent_size`: number and size of complete subgraphs present outside `large_ent_range`"
   ]
  },
  {
   "cell_type": "markdown",
   "metadata": {},
   "source": [
    "-------------"
   ]
  },
  {
   "cell_type": "markdown",
   "metadata": {},
   "source": [
    "#### SIR model parameters\n",
    "\n",
    "- `g`: network to run simulation on\n",
    "- `inf_0`: initial ratio of infected\n",
    "- `beta`: transmission rate\n",
    "- `gamma`: recovery rate"
   ]
  },
  {
   "cell_type": "markdown",
   "metadata": {},
   "source": [
    "---------------"
   ]
  },
  {
   "cell_type": "markdown",
   "metadata": {},
   "source": [
    "### build dynamic model"
   ]
  },
  {
   "cell_type": "code",
   "execution_count": 3,
   "metadata": {},
   "outputs": [],
   "source": [
    "model_ID = \"final\""
   ]
  },
  {
   "cell_type": "code",
   "execution_count": 4,
   "metadata": {},
   "outputs": [],
   "source": [
    "name_dict = {\n",
    "    i: n.format(model_ID)\n",
    "    for i, n in enumerate(\n",
    "        [\n",
    "            \"networks/network_{}\",\n",
    "            \"model_results/model_{}\",\n",
    "            \"model_results/iterations_{}\",\n",
    "            \"model_results/trends_{}\",\n",
    "        ]\n",
    "    )\n",
    "}"
   ]
  },
  {
   "cell_type": "code",
   "execution_count": 5,
   "metadata": {},
   "outputs": [],
   "source": [
    "policies = {\n",
    "    \"no_restriction\": (None, None, None),\n",
    "    \"full_restriction\": (range(50, 500), range(50, 500), range(50, 500)),\n",
    "    \"temp_restriction\": (range(50, 100), range(50, 100), range(50, 100)),\n",
    "    \"only_small_enterprises\": (range(50, 500), range(50, 100), range(50, 500)),\n",
    "    \"no_large_enterprises\": (range(50, 100), range(50, 100), range(50, 500)),\n",
    "    \"only_large_enterprises\": (range(50, 500), range(50, 500), range(50, 100)),\n",
    "}"
   ]
  },
  {
   "cell_type": "markdown",
   "metadata": {},
   "source": [
    "----------------"
   ]
  },
  {
   "cell_type": "code",
   "execution_count": 6,
   "metadata": {},
   "outputs": [],
   "source": [
    "g = nx.barabasi_albert_graph(5000, 20)"
   ]
  },
  {
   "cell_type": "code",
   "execution_count": null,
   "metadata": {
    "scrolled": true
   },
   "outputs": [],
   "source": [
    "for policy, ranges in policies.items():\n",
    "\n",
    "    dg = build_dynamic_network(ranges[0], ranges[1], ranges[2], g, number_of_iterations=500)\n",
    "    pickle.dump(dg, open(f\"{name_dict[0]}_{policy}.p\", \"wb\"))\n",
    "\n",
    "    SIR_results = SIR_model(dg, inf_0=0.01)\n",
    "\n",
    "    for i, r in enumerate(SIR_results):\n",
    "        pickle.dump(r, open(f\"{name_dict[i + 1]}_{policy}.p\", \"wb\"))\n",
    "\n",
    "    del SIR_results, i, r, dg"
   ]
  },
  {
   "cell_type": "markdown",
   "metadata": {},
   "source": [
    "### try with smaller $inf_0$"
   ]
  },
  {
   "cell_type": "code",
   "execution_count": 6,
   "metadata": {},
   "outputs": [],
   "source": [
    "networks = np.sort([t for t in glob.glob(\"networks/network*.p\") if model_ID in t])"
   ]
  },
  {
   "cell_type": "code",
   "execution_count": 7,
   "metadata": {},
   "outputs": [
    {
     "data": {
      "text/plain": [
       "array(['networks/network_final_full_restriction.p',\n",
       "       'networks/network_final_no_large_enterprises.p',\n",
       "       'networks/network_final_no_restriction.p',\n",
       "       'networks/network_final_only_large_enterprises.p',\n",
       "       'networks/network_final_only_small_enterprises.p',\n",
       "       'networks/network_final_temp_restriction.p'], dtype='<U47')"
      ]
     },
     "execution_count": 7,
     "metadata": {},
     "output_type": "execute_result"
    }
   ],
   "source": [
    "networks"
   ]
  },
  {
   "cell_type": "code",
   "execution_count": null,
   "metadata": {},
   "outputs": [],
   "source": [
    "for n in networks:\n",
    "\n",
    "    dg = pickle.load(open(n, \"rb\"))\n",
    "\n",
    "    SIR_results = SIR_model(dg, inf_0=0.001)\n",
    "\n",
    "    policy = n.replace(\"networks/network_final_\", \"\").strip(\".p\")\n",
    "\n",
    "    for i, r in enumerate(SIR_results):\n",
    "        pickle.dump(r, open(f\"{name_dict[i + 1]}_{policy}_small_inf0.p\", \"wb\"))\n",
    "\n",
    "    del SIR_results, i, r, dg"
   ]
  },
  {
   "cell_type": "markdown",
   "metadata": {},
   "source": [
    "--------------"
   ]
  },
  {
   "cell_type": "markdown",
   "metadata": {},
   "source": [
    "### visualization"
   ]
  },
  {
   "cell_type": "code",
   "execution_count": null,
   "metadata": {},
   "outputs": [],
   "source": [
    "trends = np.sort([t for t in glob.glob(\"model_results/trend*.p\") if model_ID in t])"
   ]
  },
  {
   "cell_type": "code",
   "execution_count": null,
   "metadata": {},
   "outputs": [],
   "source": [
    "trends_dict = {\n",
    "    t.replace(\"model_results/trends_final_\", \"\").strip(\".p\"): pickle.load(open(t, \"rb\"))[0][\n",
    "        \"trends\"\n",
    "    ][\"node_count\"]\n",
    "    for t in trends\n",
    "}"
   ]
  },
  {
   "cell_type": "code",
   "execution_count": null,
   "metadata": {},
   "outputs": [],
   "source": [
    "color_dict = {0: \"#40E0D0\", 1: \"#990000\", 2: \"#FFA500\"}"
   ]
  },
  {
   "cell_type": "code",
   "execution_count": null,
   "metadata": {},
   "outputs": [],
   "source": [
    "def line_plot(policy, title):\n",
    "\n",
    "    for i, t in enumerate([\"Susceptible\", \"Infected\", \"Removed\"]):\n",
    "\n",
    "        plt.plot(np.array(trends_dict[policy][i]) / 5000, c=color_dict[i], linewidth=3, label=t)\n",
    "\n",
    "    plt.legend()\n",
    "    plt.ylim(0, 1)\n",
    "    plt.xlim(0, 500)\n",
    "    plt.xlabel(\"t\", fontsize=\"large\")\n",
    "    plt.ylabel(\"Populáció aránya\", fontsize=\"large\")\n",
    "    plt.title(title, fontsize=\"xx-large\")"
   ]
  },
  {
   "cell_type": "code",
   "execution_count": 7,
   "metadata": {},
   "outputs": [],
   "source": [
    "def stack_plot(policy, title):\n",
    "\n",
    "    plt.stackplot(\n",
    "        np.arange(549),\n",
    "        np.array(trends_dict[policy][2])/5000,\n",
    "        np.array(trends_dict[policy][1])/5000,\n",
    "        np.array(trends_dict[policy][0])/5000,\n",
    "        labels=[\"Removed\", \"Infected\", \"Susceptible\"],\n",
    "        colors=[color_dict[k] for k in [2, 1, 0]]\n",
    "    )\n",
    "    \n",
    "    plt.xlim(0, 500)\n",
    "    plt.ylim(0, 1)\n",
    "    plt.xlabel(\"t\", fontsize=\"large\")\n",
    "    plt.ylabel(\"Populáció aránya\", fontsize=\"large\")\n",
    "    plt.legend()\n",
    "    plt.title(title, fontsize=\"xx-large\")"
   ]
  },
  {
   "cell_type": "code",
   "execution_count": null,
   "metadata": {},
   "outputs": [],
   "source": [
    "line_plot(\"full_restriction\", \"Teljes korlátozás\")"
   ]
  },
  {
   "cell_type": "code",
   "execution_count": null,
   "metadata": {},
   "outputs": [],
   "source": [
    "stack_plot(\"full_restriction\", \"Teljes korlátozás\")"
   ]
  },
  {
   "cell_type": "code",
   "execution_count": null,
   "metadata": {},
   "outputs": [],
   "source": [
    "line_plot(\"temp_restriction\", \"Ideiglenes korlátozás\")"
   ]
  },
  {
   "cell_type": "code",
   "execution_count": null,
   "metadata": {},
   "outputs": [],
   "source": [
    "stack_plot(\"temp_restriction\", \"Ideiglenes korlátozás\")"
   ]
  },
  {
   "cell_type": "code",
   "execution_count": null,
   "metadata": {},
   "outputs": [],
   "source": [
    "line_plot(\"no_restriction\", \"Nincs korlátozás\")"
   ]
  },
  {
   "cell_type": "code",
   "execution_count": null,
   "metadata": {},
   "outputs": [],
   "source": [
    "stack_plot(\"no_restriction\", \"Nincs korlátozás\")"
   ]
  },
  {
   "cell_type": "code",
   "execution_count": null,
   "metadata": {},
   "outputs": [],
   "source": [
    "line_plot(\"only_small_enterprises\", \"Feloldott korlátozás a kisvállalatok esetében\")"
   ]
  },
  {
   "cell_type": "code",
   "execution_count": null,
   "metadata": {},
   "outputs": [],
   "source": [
    "stack_plot(\"only_small_enterprises\", \"Feloldott korlátozás a kisvállalatok esetében\")"
   ]
  },
  {
   "cell_type": "code",
   "execution_count": null,
   "metadata": {},
   "outputs": [],
   "source": [
    "line_plot(\"only_large_enterprises\", \"Feloldott korlátozás a nagyvállalatok esetében\")"
   ]
  },
  {
   "cell_type": "code",
   "execution_count": null,
   "metadata": {},
   "outputs": [],
   "source": [
    "stack_plot(\"only_large_enterprises\", \"Feloldott korlátozás a nagyvállalatok esetében\")"
   ]
  },
  {
   "cell_type": "code",
   "execution_count": null,
   "metadata": {},
   "outputs": [],
   "source": [
    "line_plot(\"no_large_enterprises\", \"Feloldott korlátozás a kisvállalatok és egyéb érintkezések esetében\")"
   ]
  },
  {
   "cell_type": "code",
   "execution_count": null,
   "metadata": {},
   "outputs": [],
   "source": [
    "stack_plot(\"no_large_enterprises\", \"Feloldott korlátozás a kisvállalatok és egyéb érintkezések esetében\")"
   ]
  },
  {
   "cell_type": "code",
   "execution_count": null,
   "metadata": {},
   "outputs": [],
   "source": [
    "inf_summary = pd.DataFrame(\n",
    "    {p: \"{}%\".format(max(trends_dict[p][2]) / 50) for p in trends_dict.keys()},\n",
    "    index=[\"infected\"],\n",
    ").T.sort_values(by=\"infected\")"
   ]
  },
  {
   "cell_type": "code",
   "execution_count": 46,
   "metadata": {},
   "outputs": [
    {
     "data": {
      "text/html": [
       "<div>\n",
       "<style scoped>\n",
       "    .dataframe tbody tr th:only-of-type {\n",
       "        vertical-align: middle;\n",
       "    }\n",
       "\n",
       "    .dataframe tbody tr th {\n",
       "        vertical-align: top;\n",
       "    }\n",
       "\n",
       "    .dataframe thead th {\n",
       "        text-align: right;\n",
       "    }\n",
       "</style>\n",
       "<table border=\"1\" class=\"dataframe\">\n",
       "  <thead>\n",
       "    <tr style=\"text-align: right;\">\n",
       "      <th></th>\n",
       "      <th>infected</th>\n",
       "    </tr>\n",
       "  </thead>\n",
       "  <tbody>\n",
       "    <tr>\n",
       "      <th>full_restriction</th>\n",
       "      <td>52.04%</td>\n",
       "    </tr>\n",
       "    <tr>\n",
       "      <th>only_small_enterprises</th>\n",
       "      <td>52.72%</td>\n",
       "    </tr>\n",
       "    <tr>\n",
       "      <th>only_large_enterprises</th>\n",
       "      <td>64.06%</td>\n",
       "    </tr>\n",
       "    <tr>\n",
       "      <th>no_large_enterprises</th>\n",
       "      <td>70.06%</td>\n",
       "    </tr>\n",
       "    <tr>\n",
       "      <th>temp_restriction</th>\n",
       "      <td>82.06%</td>\n",
       "    </tr>\n",
       "    <tr>\n",
       "      <th>no_restriction</th>\n",
       "      <td>86.34%</td>\n",
       "    </tr>\n",
       "  </tbody>\n",
       "</table>\n",
       "</div>"
      ],
      "text/plain": [
       "                       infected\n",
       "full_restriction         52.04%\n",
       "only_small_enterprises   52.72%\n",
       "only_large_enterprises   64.06%\n",
       "no_large_enterprises     70.06%\n",
       "temp_restriction         82.06%\n",
       "no_restriction           86.34%"
      ]
     },
     "execution_count": 46,
     "metadata": {},
     "output_type": "execute_result"
    }
   ],
   "source": [
    "inf_summary"
   ]
  },
  {
   "cell_type": "code",
   "execution_count": 50,
   "metadata": {},
   "outputs": [],
   "source": [
    "inf_summary.to_csv(\"inf_summary.csv\")"
   ]
  }
 ],
 "metadata": {
  "kernelspec": {
   "display_name": "Python 3",
   "language": "python",
   "name": "python3"
  },
  "language_info": {
   "codemirror_mode": {
    "name": "ipython",
    "version": 3
   },
   "file_extension": ".py",
   "mimetype": "text/x-python",
   "name": "python",
   "nbconvert_exporter": "python",
   "pygments_lexer": "ipython3",
   "version": "3.7.3"
  }
 },
 "nbformat": 4,
 "nbformat_minor": 2
}
