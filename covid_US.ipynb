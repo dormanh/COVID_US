{
 "cells": [
  {
   "cell_type": "code",
   "execution_count": 1,
   "metadata": {},
   "outputs": [],
   "source": [
    "import networkx as nx\n",
    "import dynetx as dn\n",
    "\n",
    "import ndlib.models.ModelConfig as mc\n",
    "import ndlib.models.dynamic as dm\n",
    "\n",
    "import matplotlib\n",
    "from matplotlib import pyplot as plt\n",
    "from ndlib.viz.mpl.DiffusionTrend import DiffusionTrend\n",
    "from ndlib.viz.mpl.DiffusionPrevalence import DiffusionPrevalence\n",
    "from networkx.drawing.nx_pylab import draw_networkx\n",
    "\n",
    "import numpy as np\n",
    "import pandas as pd\n",
    "\n",
    "from tqdm import tqdm_notebook as tqdm\n",
    "import itertools"
   ]
  },
  {
   "cell_type": "code",
   "execution_count": 2,
   "metadata": {},
   "outputs": [],
   "source": [
    "matplotlib.rcParams[\"figure.figsize\"] = [6, 5]"
   ]
  },
  {
   "cell_type": "markdown",
   "metadata": {},
   "source": [
    "### static scale-free network"
   ]
  },
  {
   "cell_type": "code",
   "execution_count": 3,
   "metadata": {},
   "outputs": [],
   "source": [
    "g = nx.barabasi_albert_graph(5000, 5)"
   ]
  },
  {
   "cell_type": "code",
   "execution_count": 4,
   "metadata": {
    "scrolled": true
   },
   "outputs": [
    {
     "name": "stdout",
     "output_type": "stream",
     "text": [
      "Name: \n",
      "Type: Graph\n",
      "Number of nodes: 5000\n",
      "Number of edges: 24975\n",
      "Average degree:   9.9900\n"
     ]
    }
   ],
   "source": [
    "print(nx.info(g))"
   ]
  },
  {
   "cell_type": "markdown",
   "metadata": {},
   "source": [
    "### dynamic network"
   ]
  },
  {
   "cell_type": "code",
   "execution_count": 119,
   "metadata": {},
   "outputs": [],
   "source": [
    "dg = dn.DynGraph(edge_removal=True)"
   ]
  },
  {
   "cell_type": "code",
   "execution_count": 120,
   "metadata": {},
   "outputs": [],
   "source": [
    "iterations = range(500)\n",
    "duration = 10\n",
    "N = g.number_of_nodes()\n",
    "l = g.number_of_edges()\n",
    "edge_lambda = 0.5\n",
    "node_lambda = 0.01\n",
    "threshold = 1\n",
    "party_num = 50"
   ]
  },
  {
   "cell_type": "code",
   "execution_count": 121,
   "metadata": {},
   "outputs": [],
   "source": [
    "edge_dict = {k: e for k, e in enumerate(g.edges())}"
   ]
  },
  {
   "cell_type": "markdown",
   "metadata": {},
   "source": [
    "#### add families"
   ]
  },
  {
   "cell_type": "code",
   "execution_count": 122,
   "metadata": {},
   "outputs": [],
   "source": [
    "def find_clique_edges(cliques):\n",
    "\n",
    "    return np.concatenate(\n",
    "        [list(itertools.combinations(clique, r=2)) for clique in cliques]\n",
    "    )"
   ]
  },
  {
   "cell_type": "code",
   "execution_count": 123,
   "metadata": {},
   "outputs": [],
   "source": [
    "def remove_duplicate_edges(edges):\n",
    "\n",
    "    return pd.DataFrame([np.sort(e) for e in edges]).drop_duplicates().values"
   ]
  },
  {
   "cell_type": "code",
   "execution_count": 124,
   "metadata": {},
   "outputs": [],
   "source": [
    "families = [c for c in nx.enumerate_all_cliques(g) if len(c) in range(3, 6)]"
   ]
  },
  {
   "cell_type": "code",
   "execution_count": 125,
   "metadata": {},
   "outputs": [],
   "source": [
    "fam_relations = remove_duplicate_edges(find_clique_edges(families))"
   ]
  },
  {
   "cell_type": "code",
   "execution_count": 126,
   "metadata": {
    "scrolled": true
   },
   "outputs": [],
   "source": [
    "dg.add_interactions_from(\n",
    "    fam_relations, t=0, e=iterations[-1]\n",
    ")"
   ]
  },
  {
   "cell_type": "code",
   "execution_count": 127,
   "metadata": {},
   "outputs": [
    {
     "data": {
      "text/plain": [
       "0.755794722449702"
      ]
     },
     "execution_count": 127,
     "metadata": {},
     "output_type": "execute_result"
    }
   ],
   "source": [
    "nx.average_clustering(dg)"
   ]
  },
  {
   "cell_type": "markdown",
   "metadata": {},
   "source": [
    "#### add contacts and parties"
   ]
  },
  {
   "cell_type": "code",
   "execution_count": 128,
   "metadata": {
    "scrolled": true
   },
   "outputs": [
    {
     "data": {
      "application/vnd.jupyter.widget-view+json": {
       "model_id": "6de943aabf844e87800af9b0ed257543",
       "version_major": 2,
       "version_minor": 0
      },
      "text/plain": [
       "HBox(children=(IntProgress(value=0, max=500), HTML(value='')))"
      ]
     },
     "metadata": {},
     "output_type": "display_data"
    },
    {
     "name": "stdout",
     "output_type": "stream",
     "text": [
      "\n"
     ]
    }
   ],
   "source": [
    "for i in tqdm(iterations):\n",
    "\n",
    "    ### sima kontaktok\n",
    "\n",
    "    n_contacts = int(min(np.random.exponential(edge_lambda), threshold) * l)\n",
    "    new_contact_IDs = np.random.choice(range(l), n_contacts)\n",
    "    new_contacts = np.array([edge_dict[ID] for ID in new_contact_IDs])\n",
    "\n",
    "    ### partik\n",
    "\n",
    "    if np.random.exponential(0.1) > 0.2:\n",
    "\n",
    "        party_animals = find_clique_edges([np.random.choice(g.nodes(), party_num)])\n",
    "\n",
    "        ### összeadjuk a kettőt, kidobjuk a redundánsakat, és hozzáadjuk a hálózathoz\n",
    "\n",
    "        dg.add_interactions_from(\n",
    "            remove_duplicate_edges(np.concatenate([new_contacts, party_animals])),\n",
    "            t=i,\n",
    "            e=i + duration,\n",
    "        )\n",
    "\n",
    "    else:\n",
    "\n",
    "        dg.add_interactions_from(\n",
    "            remove_duplicate_edges(new_contacts), t=i, e=i + duration,\n",
    "        )"
   ]
  },
  {
   "cell_type": "code",
   "execution_count": 129,
   "metadata": {},
   "outputs": [
    {
     "name": "stdout",
     "output_type": "stream",
     "text": [
      "Name: \n",
      "Type: DynGraph\n",
      "Number of nodes: 5000\n",
      "Number of edges: 104668\n",
      "Average degree:  41.8674\n"
     ]
    }
   ],
   "source": [
    "print(nx.info(dg))"
   ]
  },
  {
   "cell_type": "code",
   "execution_count": 130,
   "metadata": {},
   "outputs": [
    {
     "data": {
      "text/plain": [
       "24702"
      ]
     },
     "execution_count": 130,
     "metadata": {},
     "output_type": "execute_result"
    }
   ],
   "source": [
    "dg.time_slice(t_from=10, t_to=12).number_of_edges()"
   ]
  },
  {
   "cell_type": "code",
   "execution_count": null,
   "metadata": {},
   "outputs": [],
   "source": [
    "'''\n",
    "draw_networkx(dg.time_slice(t_from=5), with_labels=False, node_size=20, node_color=\"orange\")\n",
    "draw_networkx(dg.time_slice(t_from=6), with_labels=False, node_size=20, node_color=\"purple\")\n",
    "'''"
   ]
  },
  {
   "cell_type": "markdown",
   "metadata": {},
   "source": [
    "### SIR model"
   ]
  },
  {
   "cell_type": "code",
   "execution_count": 141,
   "metadata": {},
   "outputs": [],
   "source": [
    "model = dm.DynSIRModel(dg)"
   ]
  },
  {
   "cell_type": "code",
   "execution_count": 142,
   "metadata": {},
   "outputs": [],
   "source": [
    "config = mc.Configuration()\n",
    "config.add_model_parameter(\"fraction_infected\", 0.05)\n",
    "config.add_model_parameter(\"beta\", 0.01)\n",
    "config.add_model_parameter(\"gamma\", 0.01)\n",
    "model.set_initial_status(config)"
   ]
  },
  {
   "cell_type": "code",
   "execution_count": 143,
   "metadata": {
    "scrolled": true
   },
   "outputs": [],
   "source": [
    "iterations = model.execute_snapshots()"
   ]
  },
  {
   "cell_type": "code",
   "execution_count": 144,
   "metadata": {},
   "outputs": [],
   "source": [
    "trends = model.build_trends(iterations)"
   ]
  },
  {
   "cell_type": "code",
   "execution_count": 145,
   "metadata": {},
   "outputs": [
    {
     "data": {
      "image/png": "[encoded data removed]",
      "text/plain": [
       "<Figure size 432x360 with 1 Axes>"
      ]
     },
     "metadata": {
      "needs_background": "light"
     },
     "output_type": "display_data"
    }
   ],
   "source": [
    "DiffusionTrend(model, trends).plot()"
   ]
  }
 ],
 "metadata": {
  "kernelspec": {
   "display_name": "Python 3",
   "language": "python",
   "name": "python3"
  },
  "language_info": {
   "codemirror_mode": {
    "name": "ipython",
    "version": 3
   },
   "file_extension": ".py",
   "mimetype": "text/x-python",
   "name": "python",
   "nbconvert_exporter": "python",
   "pygments_lexer": "ipython3",
   "version": "3.7.3"
  }
 },
 "nbformat": 4,
 "nbformat_minor": 2
}
